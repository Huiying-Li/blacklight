{
 "cells": [
  {
   "cell_type": "markdown",
   "metadata": {},
   "source": [
    "# Data preparation"
   ]
  },
  {
   "cell_type": "code",
   "execution_count": 1,
   "metadata": {},
   "outputs": [],
   "source": [
    "import os\n",
    "import numpy as np\n",
    "np.random.seed(666)\n",
    "import torchvision\n",
    "import torchvision.datasets as datasets\n",
    "if not os.path.isdir('data'):\n",
    "    ! mkdir data"
   ]
  },
  {
   "cell_type": "code",
   "execution_count": 3,
   "metadata": {},
   "outputs": [
    {
     "name": "stdout",
     "output_type": "stream",
     "text": [
      "Downloading https://www.cs.toronto.edu/~kriz/cifar-10-python.tar.gz to ./data/cifar-10-python.tar.gz\n"
     ]
    },
    {
     "data": {
      "application/vnd.jupyter.widget-view+json": {
       "model_id": "37cb3a2d9d2e4d069d2138c627fc38c2",
       "version_major": 2,
       "version_minor": 0
      },
      "text/plain": [
       "  0%|          | 0/170498071 [00:00<?, ?it/s]"
      ]
     },
     "metadata": {},
     "output_type": "display_data"
    },
    {
     "name": "stdout",
     "output_type": "stream",
     "text": [
      "Extracting ./data/cifar-10-python.tar.gz to ./data\n",
      "Files already downloaded and verified\n"
     ]
    }
   ],
   "source": [
    "cifar10_trainset = datasets.CIFAR10(root='./data', train=True, download=True, transform=None)\n",
    "cifar10_testset = datasets.CIFAR10(root='./data', train=False, download=True, transform=None)"
   ]
  },
  {
   "cell_type": "code",
   "execution_count": 4,
   "metadata": {},
   "outputs": [],
   "source": [
    "x_train = np.array([np.array(img[0])/255. for img in cifar10_trainset])\n",
    "y_train = np.array([img[1] for img in cifar10_trainset])\n",
    "x_test = np.array([np.array(img[0])/255. for img in cifar10_testset])\n",
    "y_test = np.array([img[1] for img in cifar10_testset])\n",
    "\n",
    "np.savez('data/cifar10', arr_0=x_train, arr_1=y_train, arr_2=x_test, arr_3=y_test)"
   ]
  },
  {
   "cell_type": "code",
   "execution_count": 2,
   "metadata": {},
   "outputs": [
    {
     "name": "stdout",
     "output_type": "stream",
     "text": [
      "training data shape: (50000, 32, 32, 3), (50000,), testing data shape: (10000, 32, 32, 3), (10000,)\n"
     ]
    }
   ],
   "source": [
    "# load images as queries\n",
    "\n",
    "dataset = np.load('data/cifar10.npz')\n",
    "x_train = dataset['arr_0']\n",
    "y_train = dataset['arr_1']\n",
    "x_test = dataset['arr_2']\n",
    "y_test = dataset['arr_3']\n",
    "\n",
    "print(\"training data shape: {}, {}, testing data shape: {}, {}\".format(x_train.shape, y_train.shape, x_test.shape, y_test.shape))"
   ]
  },
  {
   "cell_type": "markdown",
   "metadata": {},
   "source": [
    "# Start Blacklight detection"
   ]
  },
  {
   "cell_type": "code",
   "execution_count": 3,
   "metadata": {},
   "outputs": [],
   "source": [
    "from probabilistic_fingerprint import *"
   ]
  },
  {
   "cell_type": "code",
   "execution_count": 4,
   "metadata": {},
   "outputs": [],
   "source": [
    "# set parameters for blacklight\n",
    "window_size = 20\n",
    "hash_kept = 50\n",
    "roundto = 50\n",
    "step_size = 1\n",
    "workers = 5\n",
    "threshold = 25"
   ]
  },
  {
   "cell_type": "code",
   "execution_count": 5,
   "metadata": {},
   "outputs": [],
   "source": [
    "def get_tracker(query, window_size, hash_kept, roundto, step_size, workers):\n",
    "    tracker = InputTracker(query, window_size, hash_kept, round=roundto, step_size=step_size, workers=workers)\n",
    "    LOGGER.info(\"Blacklight detector created.\")\n",
    "    return tracker"
   ]
  },
  {
   "cell_type": "code",
   "execution_count": 6,
   "metadata": {
    "scrolled": true
   },
   "outputs": [
    {
     "name": "stderr",
     "output_type": "stream",
     "text": [
      "[17:56:12,06/07 <ipython-input-5-4804658fbdbf>:3 INFO]: Blacklight detector created.\n"
     ]
    }
   ],
   "source": [
    "# create a tracker as detector and detect malicious queries\n",
    "tracker = get_tracker(x_train[0], window_size, hash_kept, roundto, step_size, workers)\n",
    "match_list = []\n",
    "id = 0\n",
    "for query in x_test:\n",
    "    match_num = tracker.add_img(query)\n",
    "    match_list.append(match_num)\n",
    "    if(match_num>threshold):\n",
    "        LOGGER.info(\"Image: {}, max match: {}, attack_query: {}\".format(id, match_num, match_num>threshold))\n",
    "    id += 1"
   ]
  },
  {
   "cell_type": "code",
   "execution_count": 7,
   "metadata": {},
   "outputs": [
    {
     "name": "stderr",
     "output_type": "stream",
     "text": [
      "[17:57:42,06/07 <ipython-input-7-087ca88c5b6a>:2 INFO]: False positive rate on CiFAR-10 test dataset: 0.0\n"
     ]
    }
   ],
   "source": [
    "# calculate false positive rate\n",
    "LOGGER.info(\"False positive rate on CiFAR-10 test dataset: {}\".format(np.sum([1 for i in match_list if i > threshold])/len(x_test)))"
   ]
  }
 ],
 "metadata": {
  "kernelspec": {
   "display_name": "poison_venv",
   "language": "python",
   "name": "poison_venv"
  },
  "language_info": {
   "codemirror_mode": {
    "name": "ipython",
    "version": 3
   },
   "file_extension": ".py",
   "mimetype": "text/x-python",
   "name": "python",
   "nbconvert_exporter": "python",
   "pygments_lexer": "ipython3",
   "version": "3.6.9"
  }
 },
 "nbformat": 4,
 "nbformat_minor": 4
}
