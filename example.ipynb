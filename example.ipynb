{
 "cells": [
  {
   "cell_type": "markdown",
   "metadata": {},
   "source": [
    "# Data preparation"
   ]
  },
  {
   "cell_type": "code",
   "execution_count": null,
   "metadata": {},
   "outputs": [],
   "source": [
    "import os\n",
    "import numpy as np\n",
    "np.random.seed(666)\n",
    "import torch\n",
    "import torchvision\n",
    "import torchvision.datasets as datasets\n",
    "if not os.path.isdir('data'):\n",
    "    ! mkdir data"
   ]
  },
  {
   "cell_type": "code",
   "execution_count": null,
   "metadata": {},
   "outputs": [],
   "source": [
    "cifar10_trainset = datasets.CIFAR10(root='./data', train=True, download=True, transform=None)\n",
    "cifar10_testset = datasets.CIFAR10(root='./data', train=False, download=True, transform=None)"
   ]
  },
  {
   "cell_type": "code",
   "execution_count": null,
   "metadata": {},
   "outputs": [],
   "source": [
    "x_train = np.array([np.array(img[0])/255. for img in cifar10_trainset])\n",
    "y_train = np.array([img[1] for img in cifar10_trainset])\n",
    "x_test = np.array([np.array(img[0])/255. for img in cifar10_testset])\n",
    "y_test = np.array([img[1] for img in cifar10_testset])\n",
    "\n",
    "np.savez('data/cifar10', arr_0=x_train, arr_1=y_train, arr_2=x_test, arr_3=y_test)"
   ]
  },
  {
   "cell_type": "code",
   "execution_count": null,
   "metadata": {},
   "outputs": [],
   "source": [
    "# load images as queries\n",
    "\n",
    "dataset = np.load('data/cifar10.npz')\n",
    "x_train = dataset['arr_0']\n",
    "y_train = dataset['arr_1']\n",
    "x_test = dataset['arr_2']\n",
    "y_test = dataset['arr_3']\n",
    "\n",
    "print(\"training data shape: {}, {}, testing data shape: {}, {}\".format(x_train.shape, y_train.shape, x_test.shape, y_test.shape))"
   ]
  },
  {
   "cell_type": "markdown",
   "metadata": {},
   "source": [
    "# Start Blacklight detection"
   ]
  },
  {
   "cell_type": "code",
   "execution_count": null,
   "metadata": {},
   "outputs": [],
   "source": [
    "from probabilistic_fingerprint import *"
   ]
  },
  {
   "cell_type": "code",
   "execution_count": null,
   "metadata": {},
   "outputs": [],
   "source": [
    "# set parameters for blacklight\n",
    "window_size = 20\n",
    "hash_kept = 50\n",
    "roundto = 50\n",
    "step_size = 1\n",
    "workers = 5\n",
    "threshold = 25"
   ]
  },
  {
   "cell_type": "code",
   "execution_count": null,
   "metadata": {},
   "outputs": [],
   "source": [
    "def get_tracker(query, window_size, hash_kept, roundto, step_size, workers):\n",
    "    tracker = InputTracker(query, window_size, hash_kept, round=roundto, step_size=step_size, workers=workers)\n",
    "    LOGGER.info(\"Blacklight detector created.\")\n",
    "    return tracker"
   ]
  },
  {
   "cell_type": "code",
   "execution_count": null,
   "metadata": {
    "scrolled": true
   },
   "outputs": [],
   "source": [
    "tracker = get_tracker(x_train[0], window_size, hash_kept, roundto, step_size, workers)\n",
    "match_list = []\n",
    "id = 0\n",
    "for query in x_test:\n",
    "    match_num = tracker.add_img(query)\n",
    "    match_list.append(match_num)\n",
    "    print(\"Image: {}, max match: {}, attack_query: {}\".format(id, match_num, match_num>threshold))\n",
    "    id += 1"
   ]
  },
  {
   "cell_type": "code",
   "execution_count": null,
   "metadata": {},
   "outputs": [],
   "source": [
    "np.sum([1 for i in match_list if i > threshold])"
   ]
  },
  {
   "cell_type": "code",
   "execution_count": null,
   "metadata": {},
   "outputs": [],
   "source": []
  }
 ],
 "metadata": {
  "kernelspec": {
   "display_name": "poison_venv",
   "language": "python",
   "name": "poison_venv"
  },
  "language_info": {
   "codemirror_mode": {
    "name": "ipython",
    "version": 3
   },
   "file_extension": ".py",
   "mimetype": "text/x-python",
   "name": "python",
   "nbconvert_exporter": "python",
   "pygments_lexer": "ipython3",
   "version": "3.6.9"
  }
 },
 "nbformat": 4,
 "nbformat_minor": 4
}
